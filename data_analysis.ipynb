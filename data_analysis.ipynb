{
 "cells": [
  {
   "cell_type": "code",
   "execution_count": 3,
   "metadata": {},
   "outputs": [
    {
     "data": {
      "text/html": [
       "<div>\n",
       "<style scoped>\n",
       "    .dataframe tbody tr th:only-of-type {\n",
       "        vertical-align: middle;\n",
       "    }\n",
       "\n",
       "    .dataframe tbody tr th {\n",
       "        vertical-align: top;\n",
       "    }\n",
       "\n",
       "    .dataframe thead th {\n",
       "        text-align: right;\n",
       "    }\n",
       "</style>\n",
       "<table border=\"1\" class=\"dataframe\">\n",
       "  <thead>\n",
       "    <tr style=\"text-align: right;\">\n",
       "      <th></th>\n",
       "      <th>COUNTER</th>\n",
       "      <th>SUR</th>\n",
       "      <th>1ST</th>\n",
       "      <th>AGE</th>\n",
       "      <th>ORIG PLACE</th>\n",
       "      <th>NEWPLACE</th>\n",
       "      <th>YEAR</th>\n",
       "      <th>REF</th>\n",
       "      <th>GEN</th>\n",
       "      <th>ORIG CAUSE</th>\n",
       "      <th>...</th>\n",
       "      <th>2NDWIT</th>\n",
       "      <th>3RDWIT</th>\n",
       "      <th>4THWIT</th>\n",
       "      <th>MOTHER</th>\n",
       "      <th>FATHER</th>\n",
       "      <th>FATHER OCC</th>\n",
       "      <th>KIN</th>\n",
       "      <th>SUPERVISION</th>\n",
       "      <th>JURY FOREMN</th>\n",
       "      <th>NOTES</th>\n",
       "    </tr>\n",
       "  </thead>\n",
       "  <tbody>\n",
       "    <tr>\n",
       "      <th>0</th>\n",
       "      <td>1</td>\n",
       "      <td>OWEN</td>\n",
       "      <td>MARGARETCLARA</td>\n",
       "      <td>Eight</td>\n",
       "      <td>ARARAT</td>\n",
       "      <td>ARARAT</td>\n",
       "      <td>1877</td>\n",
       "      <td>305</td>\n",
       "      <td>F</td>\n",
       "      <td>FALLACCIDENT</td>\n",
       "      <td>...</td>\n",
       "      <td>NaN</td>\n",
       "      <td>NaN</td>\n",
       "      <td>NaN</td>\n",
       "      <td>NaN</td>\n",
       "      <td>NaN</td>\n",
       "      <td>NaN</td>\n",
       "      <td>NaN</td>\n",
       "      <td>NaN</td>\n",
       "      <td>NaN</td>\n",
       "      <td>NaN</td>\n",
       "    </tr>\n",
       "  </tbody>\n",
       "</table>\n",
       "<p>1 rows × 32 columns</p>\n",
       "</div>"
      ],
      "text/plain": [
       "   COUNTER   SUR            1ST    AGE ORIG PLACE NEWPLACE  YEAR  REF GEN  \\\n",
       "0        1  OWEN  MARGARETCLARA  Eight     ARARAT   ARARAT  1877  305   F   \n",
       "\n",
       "     ORIG CAUSE  ... 2NDWIT 3RDWIT  4THWIT MOTHER FATHER FATHER OCC  KIN  \\\n",
       "0  FALLACCIDENT  ...    NaN    NaN     NaN    NaN    NaN        NaN  NaN   \n",
       "\n",
       "  SUPERVISION JURY FOREMN NOTES  \n",
       "0         NaN         NaN   NaN  \n",
       "\n",
       "[1 rows x 32 columns]"
      ]
     },
     "execution_count": 3,
     "metadata": {},
     "output_type": "execute_result"
    }
   ],
   "source": [
    "import numpy as np\n",
    "import pandas as pd\n",
    "deaths_df = pd.read_csv(\"./tash_data.csv\")\n",
    "deaths_df.head(1)"
   ]
  },
  {
   "cell_type": "code",
   "execution_count": 55,
   "metadata": {},
   "outputs": [
    {
     "data": {
      "text/plain": [
       "MELBOURNE      1655\n",
       "BENDIGO         536\n",
       "BALLARAT        390\n",
       "CASTLEMAINE     194\n",
       "GEELONG         138\n",
       "MARYBOROUGH      56\n",
       "ARARAT           50\n",
       "CRESWICK         46\n",
       "DUNOLLY          39\n",
       "KYNETON          38\n",
       "BEECHWORTH       37\n",
       "ECHUCA           33\n",
       "CLUNES           32\n",
       "DAYLESFORD       31\n",
       "HOTHAM           31\n",
       "HAMILTON         29\n",
       "INGLEWOOD        25\n",
       "TALBOT           25\n",
       "COLAC            23\n",
       "TARADALE         22\n",
       "Name: NEWPLACE, dtype: int64"
      ]
     },
     "execution_count": 55,
     "metadata": {},
     "output_type": "execute_result"
    }
   ],
   "source": [
    "# Most common place of death NEWPLACE and ORIG PLACE appear to be identical\n",
    "deaths_df[\"NEWPLACE\"].value_counts().head(20) "
   ]
  },
  {
   "cell_type": "code",
   "execution_count": 56,
   "metadata": {},
   "outputs": [
    {
     "data": {
      "text/plain": [
       "DROWNED        1924\n",
       "DISEASE        1459\n",
       "BURN            816\n",
       "VEHICLE         354\n",
       "FALL            339\n",
       "INJURY          165\n",
       "UNSPECIFIED     115\n",
       "POISON          101\n",
       "ANIMAL           98\n",
       "SHOT             65\n",
       "SUFFOCATED       64\n",
       "EXHAUSTION       48\n",
       "SUICIDE          23\n",
       "CHOKED           16\n",
       "LIGHTNING         9\n",
       "CRIMINAL          6\n",
       "SMOTHERED         5\n",
       "STRANGLED         5\n",
       "MEDICAL           4\n",
       "CHILDBIRTH        1\n",
       "Name: NEW CAUSE, dtype: int64"
      ]
     },
     "execution_count": 56,
     "metadata": {},
     "output_type": "execute_result"
    }
   ],
   "source": [
    "#Most common Cause of death\n",
    "deaths_df[\"NEW CAUSE\"].value_counts().head(20)"
   ]
  },
  {
   "cell_type": "code",
   "execution_count": 57,
   "metadata": {},
   "outputs": [
    {
     "data": {
      "text/plain": [
       "NEWPLACE   NEW CAUSE\n",
       "MELBOURNE  DROWNED      465\n",
       "           DISEASE      439\n",
       "           BURN         238\n",
       "BENDIGO    DROWNED      217\n",
       "MELBOURNE  VEHICLE      155\n",
       "BALLARAT   DROWNED      136\n",
       "BENDIGO    DISEASE      117\n",
       "           BURN         106\n",
       "BALLARAT   DISEASE      106\n",
       "MELBOURNE  FALL         104\n",
       "dtype: int64"
      ]
     },
     "execution_count": 57,
     "metadata": {},
     "output_type": "execute_result"
    }
   ],
   "source": [
    "#Most common cause of death in each location\n",
    "deaths_df.groupby(['NEWPLACE','NEW CAUSE']).size().sort_values(ascending=False).head(10)"
   ]
  },
  {
   "cell_type": "code",
   "execution_count": 58,
   "metadata": {},
   "outputs": [
    {
     "data": {
      "text/plain": [
       "GEN  NEW CAUSE\n",
       "M    DROWNED      1441\n",
       "     DISEASE       780\n",
       "F    DISEASE       676\n",
       "     DROWNED       480\n",
       "     BURN          460\n",
       "M    BURN          356\n",
       "     VEHICLE       282\n",
       "     FALL          281\n",
       "     INJURY        143\n",
       "     ANIMAL         89\n",
       "dtype: int64"
      ]
     },
     "execution_count": 58,
     "metadata": {},
     "output_type": "execute_result"
    }
   ],
   "source": [
    "#Most common Deaths by Gender\n",
    "deaths_df.groupby([\"GEN\",\"NEW CAUSE\"]).size().sort_values(ascending=False).head(10)"
   ]
  },
  {
   "cell_type": "code",
   "execution_count": 60,
   "metadata": {},
   "outputs": [
    {
     "data": {
      "text/plain": [
       "61 DISTRICT   NEW CAUSE\n",
       "PASTORAL      DROWNED      962\n",
       "              DISEASE      720\n",
       "GOLD          DROWNED      493\n",
       "METROPOLITAN  DROWNED      469\n",
       "              DISEASE      439\n",
       "PASTORAL      BURN         342\n",
       "GOLD          DISEASE      300\n",
       "METROPOLITAN  BURN         238\n",
       "GOLD          BURN         236\n",
       "PASTORAL      FALL         168\n",
       "dtype: int64"
      ]
     },
     "execution_count": 60,
     "metadata": {},
     "output_type": "execute_result"
    }
   ],
   "source": [
    "#Most common deaths by District\n",
    "deaths_df.groupby([\"61 DISTRICT\",\"NEW CAUSE\"]).size().sort_values(ascending=False).head(10)"
   ]
  },
  {
   "cell_type": "code",
   "execution_count": null,
   "metadata": {},
   "outputs": [],
   "source": []
  }
 ],
 "metadata": {
  "interpreter": {
   "hash": "eea71d863bb6cf08d19953a73fe083fc1a51664da87bdaef3e5439bc88f619c2"
  },
  "kernelspec": {
   "display_name": "Python 3",
   "language": "python",
   "name": "python3"
  },
  "language_info": {
   "codemirror_mode": {
    "name": "ipython",
    "version": 3
   },
   "file_extension": ".py",
   "mimetype": "text/x-python",
   "name": "python",
   "nbconvert_exporter": "python",
   "pygments_lexer": "ipython3",
   "version": "3.8.10"
  }
 },
 "nbformat": 4,
 "nbformat_minor": 4
}
